{
  "cells": [
    {
      "cell_type": "markdown",
      "source": [
        "# **IMPORTING LIBRARIES**"
      ],
      "metadata": {
        "id": "rXIcB_F9F87x"
      },
      "id": "rXIcB_F9F87x"
    },
    {
      "cell_type": "code",
      "execution_count": null,
      "id": "8002b895",
      "metadata": {
        "id": "8002b895",
        "outputId": "005dbdcb-30ff-4e09-f630-cb65ab71800f"
      },
      "outputs": [
        {
          "name": "stdout",
          "output_type": "stream",
          "text": [
            "All libraries are imported\n"
          ]
        }
      ],
      "source": [
        "from tensorflow import keras\n",
        "import numpy as np\n",
        "import os\n",
        "import matplotlib.pyplot as plt\n",
        "import seaborn as sns\n",
        "import tensorflow\n",
        "from numpy.random import seed\n",
        "seed(1337)\n",
        "import datetime\n",
        "import time\n",
        "#from tensorflow import set_random_seed\n",
        "#set_random_seed(42)\n",
        "tensorflow.random.set_seed(42)\n",
        "from tensorflow.keras import optimizers\n",
        "#from tensorflow.keras.optimizers import Adam\n",
        "from keras.optimizers import Adam\n",
        "#from keras.optimizers import Adam\n",
        "from tensorflow.keras.applications import vgg16\n",
        "# from tensorflow.keras.applications.mobilenet_v3 import mobileNetV3\n",
        "from tensorflow.keras.applications.vgg16 import preprocess_input\n",
        "from tensorflow.keras.preprocessing.image import ImageDataGenerator, load_img,img_to_array\n",
        "from keras.callbacks import ModelCheckpoint, EarlyStopping, ReduceLROnPlateau, CSVLogger\n",
        "from keras import layers, models, Model, optimizers\n",
        "from imblearn.over_sampling import SMOTE\n",
        "\n",
        "from tensorflow.keras.models import Sequential\n",
        "from tensorflow.keras.models import Sequential\n",
        "from tensorflow.keras.layers import Dense, Conv2D , MaxPool2D , Flatten , Dropout \n",
        "\n",
        "import tensorflow as tf\n",
        "\n",
        "from tensorflow.keras import datasets, layers, models\n",
        "import matplotlib.pyplot as plt\n",
        "physical_devices = tf.config.list_physical_devices(\"GPU\")\n",
        "print(physical_devices)\n",
        "\n",
        "from tensorflow.keras import layers, models, Model, optimizers\n",
        "from tensorflow.keras import regularizers\n",
        "from tensorflow.python.keras.layers import Dropout\n",
        "from sklearn.metrics import classification_report, confusion_matrix, accuracy_score\n",
        "from tensorflow.keras.utils import get_custom_objects\n",
        "from tensorflow.python.keras.layers import LeakyReLU\n",
        "from tensorflow.keras.layers import Activation\n",
        "from tensorflow.keras.backend import sigmoid\n",
        "#from plot_confusion_matrix import plot_confusion_matrix\n",
        "print(\"All libraries are imported\")"
      ]
    },
    {
      "cell_type": "markdown",
      "source": [
        "# **DATA COLLECTION**"
      ],
      "metadata": {
        "id": "WjyEDSDgGRDq"
      },
      "id": "WjyEDSDgGRDq"
    },
    {
      "cell_type": "code",
      "execution_count": null,
      "id": "656f05eb",
      "metadata": {
        "scrolled": true,
        "id": "656f05eb",
        "outputId": "11486135-d164-485e-b33e-c03b407aed7d"
      },
      "outputs": [
        {
          "name": "stdout",
          "output_type": "stream",
          "text": [
            " training directory found\n",
            " validation directory found\n",
            "['Nrdr', 'Rdr']\n"
          ]
        }
      ],
      "source": [
        "train_data_dir = \"C:/DUAEFATIMA/work8/Datasets/DR-APTOS/train/\"\n",
        "print(\" training directory found\")\n",
        "                                                                                                                                                                                                                                            \n",
        "val_data_dir = \"C:/DUAEFATIMA/work8/Datasets/DR-APTOS/valid/\"\n",
        "print(\" validation directory found\")\n",
        "\n",
        "# test_data_dir = \"C:/DUAEFATIMA/work8/Datasets/DR-APTOS/test/\"\n",
        "# print(\" test directory found\")\n",
        "\n",
        "category_names = sorted(os.listdir(\"C:/DUAEFATIMA/work8/Datasets/DR-APTOS/train/\"))\n",
        "print(category_names)\n",
        "\n",
        "# print(\"test data samples\",len(test_data_dir))\n",
        "# nb_categories = len(category_names)\n",
        "# print(nb_categories)\n",
        "\n",
        "img_pr_val =[]\n",
        "img_pr_test =[]\n",
        "img_pr_cat=[]\n",
        "\n",
        "for category in category_names:\n",
        "    #folder = '/home/ubuntuos/Documents/Diabetic Retinopathy/Augmented data/train/' + '/' + category\n",
        "    folderTrain = 'C:/DUAEFATIMA/work8/Datasets/DR-APTOS/train'+ '/'+ category\n",
        "    img_pr_cat.append(len(os.listdir(folderTrain)))\n",
        "    folderValidation = 'C:/DUAEFATIMA/work8/Datasets/DR-APTOS/valid' + '/' + category\n",
        "    img_pr_val.append(len(os.listdir(folderValidation)))\n",
        "#     folderTest = test_data_dir + '/' + category\n",
        "#     img_pr_test.append(len(os.listdir(folderTest)))\n"
      ]
    },
    {
      "cell_type": "markdown",
      "source": [
        "# **IMPLEMENTATION OF NEURAL NETWORK**"
      ],
      "metadata": {
        "id": "C_yd_g1nGX77"
      },
      "id": "C_yd_g1nGX77"
    },
    {
      "cell_type": "code",
      "execution_count": null,
      "id": "e030f049",
      "metadata": {
        "scrolled": true,
        "id": "e030f049"
      },
      "outputs": [],
      "source": [
        "image_size = 224\n",
        "IMG_SHAPE = (image_size, image_size, 3)\n",
        "\n",
        "#Create the base model from the pre-trained model mobilenetv2\n",
        "model=Sequential()\n",
        "  \n",
        "model.add(Conv2D(filters=32, kernel_size=3, padding='same', activation='relu', input_shape=IMG_SHAPE))\n",
        "model.add(Conv2D(filters=32, kernel_size=3, padding='same', activation='relu'))\n",
        "model.add(MaxPool2D(pool_size=(2, 2)))\n",
        "\n",
        "# model.add(Conv2D(filters=64, kernel_size=3, padding='same', activation='relu'))\n",
        "# model.add(Conv2D(filters=64, kernel_size=3, padding='same', activation='relu'))\n",
        "# model.add(MaxPool2D(pool_size=(2, 2)))\n",
        "\n",
        "# model.add(Conv2D(filters=64, kernel_size=3, padding='same', activation='relu'))\n",
        "# model.add(Conv2D(filters=64, kernel_size=3, padding='same', activation='relu'))\n",
        "# model.add(MaxPool2D(pool_size=(2, 2)))\n",
        "\n",
        "model.add(Flatten())\n",
        "model.add(Dense(8, activation='relu'))\n",
        "model.add(Dense(1, activation='sigmoid'))\n",
        "# base_model = tf.keras.applications.MobileNetV2(input_shape=IMG_SHAPE,\n",
        "#                                               include_top=False,\n",
        "#                                               alpha=1.0,\n",
        "#                                               weights='imagenet')\n",
        "\n",
        "#base_model.summary()"
      ]
    },
    {
      "cell_type": "markdown",
      "source": [
        "#  **OPTIMIZATION OF NEURAL NETWORK**"
      ],
      "metadata": {
        "id": "7ankKtjhHKjA"
      },
      "id": "7ankKtjhHKjA"
    },
    {
      "cell_type": "code",
      "execution_count": null,
      "id": "3065c2d1",
      "metadata": {
        "scrolled": true,
        "id": "3065c2d1",
        "outputId": "eaabbcdf-f175-4966-a2cb-16ecb309e93a"
      },
      "outputs": [
        {
          "name": "stdout",
          "output_type": "stream",
          "text": [
            "Model: \"sequential_7\"\n",
            "_________________________________________________________________\n",
            " Layer (type)                Output Shape              Param #   \n",
            "=================================================================\n",
            " conv2d_16 (Conv2D)          (None, 224, 224, 32)      896       \n",
            "                                                                 \n",
            " conv2d_17 (Conv2D)          (None, 224, 224, 32)      9248      \n",
            "                                                                 \n",
            " max_pooling2d_7 (MaxPooling  (None, 112, 112, 32)     0         \n",
            " 2D)                                                             \n",
            "                                                                 \n",
            " flatten_3 (Flatten)         (None, 401408)            0         \n",
            "                                                                 \n",
            " dense_6 (Dense)             (None, 8)                 3211272   \n",
            "                                                                 \n",
            " dense_7 (Dense)             (None, 1)                 9         \n",
            "                                                                 \n",
            "=================================================================\n",
            "Total params: 3,221,425\n",
            "Trainable params: 3,221,425\n",
            "Non-trainable params: 0\n",
            "_________________________________________________________________\n"
          ]
        }
      ],
      "source": [
        "model.compile(optimizer=tf.keras.optimizers.Adam(learning_rate=0.0001,\n",
        "                                                beta_1=0.9,\n",
        "                                                beta_2=0.999,\n",
        "                                                epsilon=1e-07,\n",
        "                                                #amsgrad=False,\n",
        "                                               ),\n",
        "              loss='binary_crossentropy',\n",
        "              metrics=['accuracy'])\n",
        "model.summary()\n"
      ]
    },
    {
      "cell_type": "code",
      "execution_count": null,
      "id": "65f09ef2",
      "metadata": {
        "id": "65f09ef2",
        "outputId": "5176b4a9-a1ca-4cd1-d9fc-3ecce3280ca5"
      },
      "outputs": [
        {
          "name": "stdout",
          "output_type": "stream",
          "text": [
            "Total number of images for \"training\":\n",
            "Found 4200 images belonging to 2 classes.\n",
            "Total number of images for \"validation\":\n",
            "Found 1200 images belonging to 2 classes.\n",
            "Total number of images for \"testing\":\n",
            "Found 600 images belonging to 1 classes.\n"
          ]
        }
      ],
      "source": [
        "img_height, img_width = 224,224\n",
        "# the no. imgaes to load at each iteration\n",
        "batch_size = 32\n",
        "# only rescaling\n",
        "train_datagen =  ImageDataGenerator(\n",
        "    rescale=1./255,\n",
        "    zoom_range=0.2,\n",
        "    #brightness_range=[0.8,1.0],\n",
        "    featurewise_center=True,\n",
        "    featurewise_std_normalization=True\n",
        ")\n",
        "test_datagen =  ImageDataGenerator(\n",
        "    rescale=1./255,\n",
        "   #brightness_range=[0.8,1.0], \n",
        "    featurewise_center=True,\n",
        "    featurewise_std_normalization=True\n",
        ")\n",
        "# these are generators for train/test data that will read pictures #found in the defined subfolders of 'data/'\n",
        "print('Total number of images for \"training\":')\n",
        "\n",
        "train_generator = train_datagen.flow_from_directory(\n",
        "train_data_dir,\n",
        "target_size = (img_height, img_width),\n",
        "batch_size = batch_size, \n",
        "class_mode = \"binary\",\n",
        "    shuffle = True\n",
        "    #,color_mode='grayscale'\n",
        ")\n",
        "total_train = train_generator.n\n",
        "\n",
        "#train_generator = train_generator.reshape(x_train.shape[0], x_train.shape[1], x_train.shape[2], 1)\n",
        "print('Total number of images for \"validation\":')\n",
        "val_generator = test_datagen.flow_from_directory(\n",
        "val_data_dir,\n",
        "target_size = (img_height, img_width),\n",
        "batch_size = batch_size,\n",
        "class_mode = \"binary\"\n",
        "    ,#color_mode='grayscale',\n",
        "shuffle=True\n",
        ")\n",
        "total_val = val_generator.n\n",
        "print('Total number of images for \"testing\":')\n",
        "test_generator = test_datagen.flow_from_directory(\n",
        "test_data_dir,\n",
        "target_size = (img_height, img_width),\n",
        "batch_size = batch_size,\n",
        "class_mode = \"binary\"\n",
        "    ,#color_mode='grayscale',\n",
        "shuffle=True)"
      ]
    },
    {
      "cell_type": "markdown",
      "source": [
        "# **TRAINING OF MODEL**"
      ],
      "metadata": {
        "id": "JcAidMsFGoUR"
      },
      "id": "JcAidMsFGoUR"
    },
    {
      "cell_type": "code",
      "execution_count": null,
      "id": "04ccf5a1",
      "metadata": {
        "scrolled": true,
        "id": "04ccf5a1",
        "outputId": "f5e89157-2c82-4996-b694-063bf12f14e4"
      },
      "outputs": [
        {
          "name": "stdout",
          "output_type": "stream",
          "text": [
            "WARNING:tensorflow:`period` argument is deprecated. Please use `save_freq` to specify the frequency in number of batches seen.\n",
            "Training Started at:  2023-02-23 10:33:01.772236\n",
            "Epoch 1/50\n",
            "132/132 [==============================] - ETA: 0s - loss: 0.5143 - accuracy: 0.7417\n",
            "Epoch 1: val_accuracy improved from -inf to 0.73667, saving model to C:/DUAEFATIMA/fyp_miss_fauzia\\model.h5\n",
            "132/132 [==============================] - 68s 490ms/step - loss: 0.5143 - accuracy: 0.7417 - val_loss: 0.5130 - val_accuracy: 0.7367 - lr: 1.0000e-04\n",
            "Epoch 2/50\n",
            "132/132 [==============================] - ETA: 0s - loss: 0.5020 - accuracy: 0.7436\n",
            "Epoch 2: val_accuracy improved from 0.73667 to 0.75417, saving model to C:/DUAEFATIMA/fyp_miss_fauzia\\model.h5\n",
            "132/132 [==============================] - 65s 464ms/step - loss: 0.5020 - accuracy: 0.7436 - val_loss: 0.4933 - val_accuracy: 0.7542 - lr: 1.0000e-04\n",
            "Epoch 3/50\n",
            "132/132 [==============================] - ETA: 0s - loss: 0.4789 - accuracy: 0.7579\n",
            "Epoch 3: val_accuracy did not improve from 0.75417\n",
            "132/132 [==============================] - 63s 456ms/step - loss: 0.4789 - accuracy: 0.7579 - val_loss: 0.5171 - val_accuracy: 0.7292 - lr: 1.0000e-04\n",
            "Epoch 4/50\n",
            "132/132 [==============================] - ETA: 0s - loss: 0.4675 - accuracy: 0.7652\n",
            "Epoch 4: val_accuracy did not improve from 0.75417\n",
            "132/132 [==============================] - 63s 444ms/step - loss: 0.4675 - accuracy: 0.7652 - val_loss: 0.4758 - val_accuracy: 0.7433 - lr: 1.0000e-04\n",
            "Epoch 5/50\n",
            "132/132 [==============================] - ETA: 0s - loss: 0.4653 - accuracy: 0.7650\n",
            "Epoch 5: val_accuracy did not improve from 0.75417\n",
            "132/132 [==============================] - 64s 460ms/step - loss: 0.4653 - accuracy: 0.7650 - val_loss: 0.4796 - val_accuracy: 0.7383 - lr: 1.0000e-04\n",
            "Epoch 6/50\n",
            "132/132 [==============================] - ETA: 0s - loss: 0.4547 - accuracy: 0.7700\n",
            "Epoch 6: val_accuracy did not improve from 0.75417\n",
            "132/132 [==============================] - 64s 455ms/step - loss: 0.4547 - accuracy: 0.7700 - val_loss: 0.4782 - val_accuracy: 0.7425 - lr: 1.0000e-04\n",
            "Epoch 7/50\n",
            "132/132 [==============================] - ETA: 0s - loss: 0.4535 - accuracy: 0.7710\n",
            "Epoch 7: val_accuracy improved from 0.75417 to 0.75583, saving model to C:/DUAEFATIMA/fyp_miss_fauzia\\model.h5\n",
            "132/132 [==============================] - 63s 454ms/step - loss: 0.4535 - accuracy: 0.7710 - val_loss: 0.4935 - val_accuracy: 0.7558 - lr: 1.0000e-04\n",
            "Epoch 8/50\n",
            "132/132 [==============================] - ETA: 0s - loss: 0.4388 - accuracy: 0.7793\n",
            "Epoch 8: val_accuracy did not improve from 0.75583\n",
            "132/132 [==============================] - 63s 452ms/step - loss: 0.4388 - accuracy: 0.7793 - val_loss: 0.4782 - val_accuracy: 0.7492 - lr: 1.0000e-04\n",
            "Epoch 9/50\n",
            "132/132 [==============================] - ETA: 0s - loss: 0.4402 - accuracy: 0.7790\n",
            "Epoch 9: val_accuracy did not improve from 0.75583\n",
            "132/132 [==============================] - 62s 442ms/step - loss: 0.4402 - accuracy: 0.7790 - val_loss: 0.4955 - val_accuracy: 0.7292 - lr: 1.0000e-04\n",
            "Epoch 10/50\n",
            "132/132 [==============================] - ETA: 0s - loss: 0.4388 - accuracy: 0.7788\n",
            "Epoch 10: val_accuracy did not improve from 0.75583\n",
            "132/132 [==============================] - 66s 472ms/step - loss: 0.4388 - accuracy: 0.7788 - val_loss: 0.5073 - val_accuracy: 0.7167 - lr: 1.0000e-04\n",
            "Epoch 11/50\n",
            "132/132 [==============================] - ETA: 0s - loss: 0.4372 - accuracy: 0.7843\n",
            "Epoch 11: val_accuracy improved from 0.75583 to 0.75833, saving model to C:/DUAEFATIMA/fyp_miss_fauzia\\model.h5\n",
            "132/132 [==============================] - 63s 453ms/step - loss: 0.4372 - accuracy: 0.7843 - val_loss: 0.4582 - val_accuracy: 0.7583 - lr: 1.0000e-04\n",
            "Epoch 12/50\n",
            "132/132 [==============================] - ETA: 0s - loss: 0.4241 - accuracy: 0.7821\n",
            "Epoch 12: val_accuracy did not improve from 0.75833\n",
            "132/132 [==============================] - 64s 459ms/step - loss: 0.4241 - accuracy: 0.7821 - val_loss: 0.4629 - val_accuracy: 0.7575 - lr: 1.0000e-04\n",
            "Epoch 13/50\n",
            "132/132 [==============================] - ETA: 0s - loss: 0.4229 - accuracy: 0.7831\n",
            "Epoch 13: val_accuracy improved from 0.75833 to 0.77167, saving model to C:/DUAEFATIMA/fyp_miss_fauzia\\model.h5\n",
            "132/132 [==============================] - 66s 476ms/step - loss: 0.4229 - accuracy: 0.7831 - val_loss: 0.4420 - val_accuracy: 0.7717 - lr: 1.0000e-04\n",
            "Epoch 14/50\n",
            "132/132 [==============================] - ETA: 0s - loss: 0.4140 - accuracy: 0.7952\n",
            "Epoch 14: val_accuracy improved from 0.77167 to 0.77500, saving model to C:/DUAEFATIMA/fyp_miss_fauzia\\model.h5\n",
            "132/132 [==============================] - 62s 447ms/step - loss: 0.4140 - accuracy: 0.7952 - val_loss: 0.4283 - val_accuracy: 0.7750 - lr: 1.0000e-04\n",
            "Epoch 15/50\n",
            "132/132 [==============================] - ETA: 0s - loss: 0.4103 - accuracy: 0.7936\n",
            "Epoch 15: val_accuracy did not improve from 0.77500\n",
            "132/132 [==============================] - 62s 441ms/step - loss: 0.4103 - accuracy: 0.7936 - val_loss: 0.4640 - val_accuracy: 0.7467 - lr: 1.0000e-04\n",
            "Epoch 16/50\n",
            "132/132 [==============================] - ETA: 0s - loss: 0.4062 - accuracy: 0.8064\n",
            "Epoch 16: val_accuracy did not improve from 0.77500\n",
            "132/132 [==============================] - 62s 447ms/step - loss: 0.4062 - accuracy: 0.8064 - val_loss: 0.4624 - val_accuracy: 0.7733 - lr: 1.0000e-04\n",
            "Epoch 17/50\n",
            "132/132 [==============================] - ETA: 0s - loss: 0.3967 - accuracy: 0.8160\n",
            "Epoch 17: val_accuracy did not improve from 0.77500\n",
            "132/132 [==============================] - 63s 449ms/step - loss: 0.3967 - accuracy: 0.8160 - val_loss: 0.4670 - val_accuracy: 0.7742 - lr: 1.0000e-04\n",
            "Epoch 18/50\n",
            "132/132 [==============================] - ETA: 0s - loss: 0.3974 - accuracy: 0.8174\n",
            "Epoch 18: val_accuracy improved from 0.77500 to 0.79333, saving model to C:/DUAEFATIMA/fyp_miss_fauzia\\model.h5\n",
            "132/132 [==============================] - 62s 442ms/step - loss: 0.3974 - accuracy: 0.8174 - val_loss: 0.4267 - val_accuracy: 0.7933 - lr: 1.0000e-04\n",
            "Epoch 19/50\n",
            "132/132 [==============================] - ETA: 0s - loss: 0.3931 - accuracy: 0.8248\n",
            "Epoch 19: val_accuracy did not improve from 0.79333\n",
            "132/132 [==============================] - 63s 450ms/step - loss: 0.3931 - accuracy: 0.8248 - val_loss: 0.4233 - val_accuracy: 0.7867 - lr: 1.0000e-04\n",
            "Epoch 20/50\n",
            "132/132 [==============================] - ETA: 0s - loss: 0.3861 - accuracy: 0.8212\n",
            "Epoch 20: val_accuracy improved from 0.79333 to 0.79583, saving model to C:/DUAEFATIMA/fyp_miss_fauzia\\model.h5\n",
            "132/132 [==============================] - 65s 463ms/step - loss: 0.3861 - accuracy: 0.8212 - val_loss: 0.4332 - val_accuracy: 0.7958 - lr: 1.0000e-04\n",
            "Epoch 21/50\n",
            "132/132 [==============================] - ETA: 0s - loss: 0.3833 - accuracy: 0.8157\n",
            "Epoch 21: val_accuracy did not improve from 0.79583\n",
            "132/132 [==============================] - 64s 457ms/step - loss: 0.3833 - accuracy: 0.8157 - val_loss: 0.4273 - val_accuracy: 0.7858 - lr: 1.0000e-04\n",
            "Epoch 22/50\n",
            "132/132 [==============================] - ETA: 0s - loss: 0.3830 - accuracy: 0.8240\n",
            "Epoch 22: val_accuracy did not improve from 0.79583\n",
            "132/132 [==============================] - 63s 470ms/step - loss: 0.3830 - accuracy: 0.8240 - val_loss: 0.4514 - val_accuracy: 0.7700 - lr: 1.0000e-04\n",
            "Epoch 23/50\n",
            "132/132 [==============================] - ETA: 0s - loss: 0.3804 - accuracy: 0.8264\n",
            "Epoch 23: val_accuracy improved from 0.79583 to 0.80000, saving model to C:/DUAEFATIMA/fyp_miss_fauzia\\model.h5\n",
            "132/132 [==============================] - 63s 454ms/step - loss: 0.3804 - accuracy: 0.8264 - val_loss: 0.4228 - val_accuracy: 0.8000 - lr: 1.0000e-04\n",
            "Epoch 24/50\n",
            "132/132 [==============================] - ETA: 0s - loss: 0.3711 - accuracy: 0.8274\n",
            "Epoch 24: val_accuracy did not improve from 0.80000\n",
            "132/132 [==============================] - 64s 442ms/step - loss: 0.3711 - accuracy: 0.8274 - val_loss: 0.4579 - val_accuracy: 0.7792 - lr: 1.0000e-04\n",
            "Epoch 25/50\n",
            "132/132 [==============================] - ETA: 0s - loss: 0.3693 - accuracy: 0.8293\n",
            "Epoch 25: val_accuracy did not improve from 0.80000\n",
            "132/132 [==============================] - 62s 444ms/step - loss: 0.3693 - accuracy: 0.8293 - val_loss: 0.4070 - val_accuracy: 0.7933 - lr: 1.0000e-04\n",
            "Epoch 26/50\n",
            "132/132 [==============================] - ETA: 0s - loss: 0.3690 - accuracy: 0.8298\n",
            "Epoch 26: val_accuracy did not improve from 0.80000\n",
            "132/132 [==============================] - 62s 443ms/step - loss: 0.3690 - accuracy: 0.8298 - val_loss: 0.3957 - val_accuracy: 0.7983 - lr: 1.0000e-04\n",
            "Epoch 27/50\n",
            "132/132 [==============================] - ETA: 0s - loss: 0.3609 - accuracy: 0.8414\n",
            "Epoch 27: val_accuracy did not improve from 0.80000\n",
            "132/132 [==============================] - 64s 457ms/step - loss: 0.3609 - accuracy: 0.8414 - val_loss: 0.4281 - val_accuracy: 0.7883 - lr: 1.0000e-04\n",
            "Epoch 28/50\n",
            "132/132 [==============================] - ETA: 0s - loss: 0.3587 - accuracy: 0.8360\n",
            "Epoch 28: val_accuracy did not improve from 0.80000\n",
            "132/132 [==============================] - 62s 443ms/step - loss: 0.3587 - accuracy: 0.8360 - val_loss: 0.4338 - val_accuracy: 0.7867 - lr: 1.0000e-04\n",
            "Epoch 29/50\n",
            "131/132 [============================>.] - ETA: 0s - loss: 0.3646 - accuracy: 0.8330\n",
            "Epoch 29: val_accuracy did not improve from 0.80000\n",
            "132/132 [==============================] - 62s 447ms/step - loss: 0.3645 - accuracy: 0.8331 - val_loss: 0.4410 - val_accuracy: 0.7717 - lr: 1.0000e-04\n",
            "Epoch 30/50\n",
            "132/132 [==============================] - ETA: 0s - loss: 0.3576 - accuracy: 0.8360\n",
            "Epoch 30: val_accuracy improved from 0.80000 to 0.81250, saving model to C:/DUAEFATIMA/fyp_miss_fauzia\\model.h5\n",
            "132/132 [==============================] - 64s 451ms/step - loss: 0.3576 - accuracy: 0.8360 - val_loss: 0.3954 - val_accuracy: 0.8125 - lr: 1.0000e-04\n",
            "Epoch 31/50\n",
            "132/132 [==============================] - ETA: 0s - loss: 0.3525 - accuracy: 0.8364\n",
            "Epoch 31: val_accuracy did not improve from 0.81250\n",
            "132/132 [==============================] - 63s 447ms/step - loss: 0.3525 - accuracy: 0.8364 - val_loss: 0.3913 - val_accuracy: 0.8017 - lr: 1.0000e-04\n",
            "Epoch 32/50\n",
            "132/132 [==============================] - ETA: 0s - loss: 0.3379 - accuracy: 0.8455\n",
            "Epoch 32: val_accuracy did not improve from 0.81250\n",
            "132/132 [==============================] - 64s 463ms/step - loss: 0.3379 - accuracy: 0.8455 - val_loss: 0.4332 - val_accuracy: 0.8000 - lr: 1.0000e-04\n",
            "Epoch 33/50\n",
            "132/132 [==============================] - ETA: 0s - loss: 0.3431 - accuracy: 0.8469\n",
            "Epoch 33: val_accuracy improved from 0.81250 to 0.81500, saving model to C:/DUAEFATIMA/fyp_miss_fauzia\\model.h5\n",
            "132/132 [==============================] - 63s 446ms/step - loss: 0.3431 - accuracy: 0.8469 - val_loss: 0.3869 - val_accuracy: 0.8150 - lr: 1.0000e-04\n",
            "Epoch 34/50\n",
            "132/132 [==============================] - ETA: 0s - loss: 0.3323 - accuracy: 0.8507\n",
            "Epoch 34: val_accuracy did not improve from 0.81500\n",
            "132/132 [==============================] - 62s 445ms/step - loss: 0.3323 - accuracy: 0.8507 - val_loss: 0.3911 - val_accuracy: 0.8042 - lr: 1.0000e-04\n",
            "Epoch 35/50\n",
            "132/132 [==============================] - ETA: 0s - loss: 0.3386 - accuracy: 0.8464\n",
            "Epoch 35: val_accuracy did not improve from 0.81500\n",
            "132/132 [==============================] - 62s 446ms/step - loss: 0.3386 - accuracy: 0.8464 - val_loss: 0.3976 - val_accuracy: 0.8058 - lr: 1.0000e-04\n",
            "Epoch 36/50\n",
            "131/132 [============================>.] - ETA: 0s - loss: 0.3309 - accuracy: 0.8519\n",
            "Epoch 36: val_accuracy did not improve from 0.81500\n",
            "132/132 [==============================] - 63s 454ms/step - loss: 0.3306 - accuracy: 0.8521 - val_loss: 0.4200 - val_accuracy: 0.7950 - lr: 1.0000e-04\n",
            "Epoch 37/50\n",
            "132/132 [==============================] - ETA: 0s - loss: 0.3366 - accuracy: 0.8514\n",
            "Epoch 37: val_accuracy improved from 0.81500 to 0.81750, saving model to C:/DUAEFATIMA/fyp_miss_fauzia\\model.h5\n",
            "132/132 [==============================] - 64s 458ms/step - loss: 0.3366 - accuracy: 0.8514 - val_loss: 0.3814 - val_accuracy: 0.8175 - lr: 1.0000e-04\n",
            "Epoch 38/50\n",
            "132/132 [==============================] - ETA: 0s - loss: 0.3248 - accuracy: 0.8564\n",
            "Epoch 38: val_accuracy did not improve from 0.81750\n",
            "132/132 [==============================] - 65s 462ms/step - loss: 0.3248 - accuracy: 0.8564 - val_loss: 0.3935 - val_accuracy: 0.8067 - lr: 1.0000e-04\n",
            "Epoch 39/50\n",
            "132/132 [==============================] - ETA: 0s - loss: 0.3131 - accuracy: 0.8640\n",
            "Epoch 39: val_accuracy did not improve from 0.81750\n",
            "132/132 [==============================] - 66s 475ms/step - loss: 0.3131 - accuracy: 0.8640 - val_loss: 0.4026 - val_accuracy: 0.8108 - lr: 1.0000e-04\n",
            "Epoch 40/50\n",
            "132/132 [==============================] - ETA: 0s - loss: 0.3185 - accuracy: 0.8645\n",
            "Epoch 40: val_accuracy did not improve from 0.81750\n",
            "132/132 [==============================] - 66s 449ms/step - loss: 0.3185 - accuracy: 0.8645 - val_loss: 0.3811 - val_accuracy: 0.8117 - lr: 1.0000e-04\n",
            "Epoch 41/50\n",
            "132/132 [==============================] - ETA: 0s - loss: 0.3232 - accuracy: 0.8560\n",
            "Epoch 41: val_accuracy did not improve from 0.81750\n",
            "132/132 [==============================] - 63s 457ms/step - loss: 0.3232 - accuracy: 0.8560 - val_loss: 0.4031 - val_accuracy: 0.8142 - lr: 1.0000e-04\n",
            "Epoch 42/50\n",
            "132/132 [==============================] - ETA: 0s - loss: 0.3174 - accuracy: 0.8619\n",
            "Epoch 42: val_accuracy did not improve from 0.81750\n",
            "132/132 [==============================] - 64s 455ms/step - loss: 0.3174 - accuracy: 0.8619 - val_loss: 0.3910 - val_accuracy: 0.8142 - lr: 1.0000e-04\n",
            "Epoch 43/50\n",
            "132/132 [==============================] - ETA: 0s - loss: 0.3010 - accuracy: 0.8667\n",
            "Epoch 43: val_accuracy did not improve from 0.81750\n",
            "132/132 [==============================] - 64s 455ms/step - loss: 0.3010 - accuracy: 0.8667 - val_loss: 0.3915 - val_accuracy: 0.8033 - lr: 1.0000e-04\n",
            "Epoch 44/50\n",
            "132/132 [==============================] - ETA: 0s - loss: 0.3185 - accuracy: 0.8631\n",
            "Epoch 44: val_accuracy did not improve from 0.81750\n",
            "132/132 [==============================] - 65s 465ms/step - loss: 0.3185 - accuracy: 0.8631 - val_loss: 0.3961 - val_accuracy: 0.8067 - lr: 1.0000e-04\n",
            "Epoch 45/50\n",
            "132/132 [==============================] - ETA: 0s - loss: 0.3014 - accuracy: 0.8719\n",
            "Epoch 45: val_accuracy did not improve from 0.81750\n",
            "132/132 [==============================] - 62s 445ms/step - loss: 0.3014 - accuracy: 0.8719 - val_loss: 0.4026 - val_accuracy: 0.8083 - lr: 1.0000e-04\n",
            "Epoch 46/50\n",
            "132/132 [==============================] - ETA: 0s - loss: 0.3066 - accuracy: 0.8669\n",
            "Epoch 46: val_accuracy improved from 0.81750 to 0.82417, saving model to C:/DUAEFATIMA/fyp_miss_fauzia\\model.h5\n",
            "132/132 [==============================] - 64s 458ms/step - loss: 0.3066 - accuracy: 0.8669 - val_loss: 0.3999 - val_accuracy: 0.8242 - lr: 1.0000e-04\n",
            "Epoch 47/50\n",
            "132/132 [==============================] - ETA: 0s - loss: 0.3014 - accuracy: 0.8726\n",
            "Epoch 47: val_accuracy did not improve from 0.82417\n",
            "132/132 [==============================] - 64s 456ms/step - loss: 0.3014 - accuracy: 0.8726 - val_loss: 0.4200 - val_accuracy: 0.8000 - lr: 1.0000e-04\n",
            "Epoch 48/50\n",
            "132/132 [==============================] - ETA: 0s - loss: 0.3042 - accuracy: 0.8652\n",
            "Epoch 48: val_accuracy did not improve from 0.82417\n",
            "132/132 [==============================] - 63s 450ms/step - loss: 0.3042 - accuracy: 0.8652 - val_loss: 0.4050 - val_accuracy: 0.8067 - lr: 1.0000e-04\n",
            "Epoch 49/50\n",
            "132/132 [==============================] - ETA: 0s - loss: 0.2997 - accuracy: 0.8719\n",
            "Epoch 49: val_accuracy did not improve from 0.82417\n",
            "132/132 [==============================] - 64s 459ms/step - loss: 0.2997 - accuracy: 0.8719 - val_loss: 0.4595 - val_accuracy: 0.7875 - lr: 1.0000e-04\n",
            "Epoch 50/50\n",
            "132/132 [==============================] - ETA: 0s - loss: 0.3054 - accuracy: 0.8657\n",
            "Epoch 50: val_accuracy did not improve from 0.82417\n",
            "132/132 [==============================] - 64s 462ms/step - loss: 0.3054 - accuracy: 0.8657 - val_loss: 0.3820 - val_accuracy: 0.8225 - lr: 1.0000e-04\n",
            "Time:  0:53:04.007339\n"
          ]
        }
      ],
      "source": [
        "\n",
        "start = datetime.datetime.now()\n",
        "\n",
        "# main_model_dir= r\"C:/DUAEFATIMA/output/\"\n",
        "# model_dir = main_model_dir + time.strftime('%Y-%m-%d %H-%M-%S') + \"/\"\n",
        "# model_file = model_dir + \"{epoch:02d}-val_accuracy-{val_accuracy:.2f}-val_loss-{val_loss:.2f}.hdf5\"\n",
        "\n",
        "#save_weights_only=False\n",
        "\n",
        "epochs = 50\n",
        "checkpoint = ModelCheckpoint( \"C:/DUAEFATIMA/fyp_miss_fauzia/model.h5\",\n",
        "                             monitor = 'val_accuracy', \n",
        "                             verbose=1, save_weights_only=False, \n",
        "                             save_best_only=True, mode='max', period=1)\n",
        "\n",
        "early = EarlyStopping(monitor='val_accuracy', min_delta=0, patience=50, verbose=1, mode='max', restore_best_weights=True)\n",
        "\n",
        "reduce_lr = ReduceLROnPlateau(monitor='val_loss', \n",
        "                                    factor=0.1,\n",
        "                                    patience=1,\n",
        "                                    verbose=1,\n",
        "                                    mode=\"auto\",\n",
        "                                    min_delta=0.0001,\n",
        "                                    cooldown=0,\n",
        "                                    min_lr=0.001)\n",
        "# steps_per_epoch = \n",
        "# validation_steps = 100\n",
        "csv_logger = CSVLogger('C:/DUAEFATIMA/fyp_miss_fauzia/model.csv', separator=',')\n",
        "\n",
        "\n",
        "print(\"Training Started at: \",start)\n",
        "history = model.fit(train_generator,\n",
        "                              #steps_per_epoch = 1,\n",
        "                              epochs=epochs,\n",
        "                              workers=24,\n",
        "                              #validation_steps=1,\n",
        "                              validation_data=val_generator, verbose = 1,callbacks = [csv_logger,early, reduce_lr,checkpoint]\n",
        "                               #validation_data=val_generator, verbose = 1,callbacks = [early, reduce_lr,checkpoint]\n",
        "                             )\n",
        "end = datetime.datetime.now()\n",
        "elapsed= end-start\n",
        "print (\"Time: \", elapsed)"
      ]
    },
    {
      "cell_type": "markdown",
      "source": [
        "# **GRAPHICAL REPRESENTATION**"
      ],
      "metadata": {
        "id": "jDVIyuyxGx_E"
      },
      "id": "jDVIyuyxGx_E"
    },
    {
      "cell_type": "markdown",
      "id": "2903a196",
      "metadata": {
        "id": "2903a196"
      },
      "source": [
        "for key in historyCallback.history:\n",
        "    print(key)"
      ]
    },
    {
      "cell_type": "code",
      "execution_count": null,
      "id": "25271fe7",
      "metadata": {
        "id": "25271fe7"
      },
      "outputs": [],
      "source": [
        "#model.save(\"C:/DUAEFATIMA/work_6/models_experiments/mobilenetv2/mobilnetv2_hybrid_copy_32.h5\")"
      ]
    },
    {
      "cell_type": "code",
      "execution_count": null,
      "id": "0e1ac9bf",
      "metadata": {
        "scrolled": true,
        "id": "0e1ac9bf",
        "outputId": "8d5d0afc-a525-43e6-f040-cd68432123a2"
      },
      "outputs": [
        {
          "data": {
            "image/png": "[encoded data removed]",
            "text/plain": [
              "<Figure size 432x288 with 1 Axes>"
            ]
          },
          "metadata": {
            "needs_background": "light"
          },
          "output_type": "display_data"
        }
      ],
      "source": [
        "acc = history.history['accuracy']\n",
        "val_acc = history.history['val_accuracy']\n",
        "loss = history.history['loss']\n",
        "val_loss = history.history['val_loss']\n",
        "epochs = range(1,len(acc)+1)\n",
        "legends = ['Training', 'Validation']\n",
        "\n",
        "plt.plot(epochs, acc, 'g', label = 'Training accuracy')\n",
        "plt.plot(epochs, val_acc, 'r', label='Validation accuracy')\n",
        "plt.title('Training and validation accuracy')\n",
        "plt.legend(legends, loc='upper left')\n",
        "plt.savefig('C:/DUAEFATIMA/fyp_miss_fauzia/model_acc.jpg')\n",
        "\n",
        "# plt.plot(epochs, loss, 'g', label = 'Training loss')\n",
        "# plt.plot(epochs, val_loss, 'y', label='Validation loss')\n",
        "\n",
        "# plt.savefig('C:/DUAEFATIMA/Loss.jpg')"
      ]
    },
    {
      "cell_type": "code",
      "execution_count": null,
      "id": "60e06f64",
      "metadata": {
        "id": "60e06f64",
        "outputId": "e547d3a7-522c-489f-ffe4-da4bedded580"
      },
      "outputs": [
        {
          "data": {
            "image/png": "[encoded data removed]",
            "text/plain": [
              "<Figure size 432x288 with 1 Axes>"
            ]
          },
          "metadata": {
            "needs_background": "light"
          },
          "output_type": "display_data"
        }
      ],
      "source": [
        "loss = history.history['loss']\n",
        "val_loss = history.history['val_loss']\n",
        "legends = ['Training', 'Validation']\n",
        "epochs = range(1,len(acc)+1)\n",
        "plt.plot(epochs, loss, 'g', label = 'Training loss')\n",
        "plt.plot(epochs, val_loss, 'r', label='Validation loss')\n",
        "plt.title('Training and validation loss')\n",
        "plt.legend(legends, loc='upper left')\n",
        "plt.savefig('C:/DUAEFATIMA/fyp_miss_fauzia/model_loss.jpg')"
      ]
    },
    {
      "cell_type": "markdown",
      "source": [
        "# **ACCURACY OBTAINED IN TEST SET**"
      ],
      "metadata": {
        "id": "_L7IZFFVHesd"
      },
      "id": "_L7IZFFVHesd"
    },
    {
      "cell_type": "code",
      "execution_count": null,
      "id": "5d90c1f3",
      "metadata": {
        "id": "5d90c1f3",
        "outputId": "3fa6b86e-b0b8-43da-a4b7-24a0f248a812"
      },
      "outputs": [
        {
          "name": "stdout",
          "output_type": "stream",
          "text": [
            "Accuracy in test set: 77.0% \n"
          ]
        }
      ],
      "source": [
        "accuracy = accuracy_score(test_generator.classes, binary)\n",
        "print(\"Accuracy in test set: %0.1f%% \" % (accuracy * 100))"
      ]
    },
    {
      "cell_type": "code",
      "execution_count": null,
      "id": "2c0b229d",
      "metadata": {
        "id": "2c0b229d"
      },
      "outputs": [],
      "source": [
        "\n"
      ]
    },
    {
      "cell_type": "code",
      "execution_count": null,
      "id": "4e9b65d3",
      "metadata": {
        "id": "4e9b65d3"
      },
      "outputs": [],
      "source": []
    },
    {
      "cell_type": "code",
      "execution_count": null,
      "id": "ce39939b",
      "metadata": {
        "id": "ce39939b"
      },
      "outputs": [],
      "source": []
    },
    {
      "cell_type": "code",
      "execution_count": null,
      "id": "aff47c73",
      "metadata": {
        "id": "aff47c73"
      },
      "outputs": [],
      "source": []
    },
    {
      "cell_type": "code",
      "execution_count": null,
      "id": "00e4b7f2",
      "metadata": {
        "id": "00e4b7f2"
      },
      "outputs": [],
      "source": [
        "\n"
      ]
    },
    {
      "cell_type": "code",
      "execution_count": null,
      "id": "81d0fd06",
      "metadata": {
        "id": "81d0fd06"
      },
      "outputs": [],
      "source": []
    }
  ],
  "metadata": {
    "kernelspec": {
      "display_name": "Python 3 (ipykernel)",
      "language": "python",
      "name": "python3"
    },
    "language_info": {
      "codemirror_mode": {
        "name": "ipython",
        "version": 3
      },
      "file_extension": ".py",
      "mimetype": "text/x-python",
      "name": "python",
      "nbconvert_exporter": "python",
      "pygments_lexer": "ipython3",
      "version": "3.9.12"
    },
    "colab": {
      "provenance": []
    }
  },
  "nbformat": 4,
  "nbformat_minor": 5
}