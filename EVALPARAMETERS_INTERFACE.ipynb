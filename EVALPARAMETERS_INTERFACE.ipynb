{
  "nbformat": 4,
  "nbformat_minor": 0,
  "metadata": {
    "colab": {
      "provenance": [],
      "gpuType": "T4"
    },
    "kernelspec": {
      "name": "python3",
      "display_name": "Python 3"
    },
    "language_info": {
      "name": "python"
    },
    "accelerator": "GPU"
  },
  "cells": [
    {
      "cell_type": "markdown",
      "source": [
        "# **IMPORTING LIBRARIES**"
      ],
      "metadata": {
        "id": "E3Y5EDFwxnOy"
      }
    },
    {
      "cell_type": "code",
      "source": [
        "import tensorflow as tf\n",
        "#from pynq import GPIO\n",
        "from PIL import Image,ImageFile\n",
        "import pandas as pd\n",
        "import numpy as np\n",
        "import matplotlib.pyplot as plt\n",
        "from tensorflow.keras import datasets, layers, models\n",
        "import matplotlib.pyplot as plt\n",
        "physical_devices = tf.config.list_physical_devices(\"GPU\")\n",
        "from tensorflow import keras\n",
        "import numpy as np\n",
        "import os\n",
        "import matplotlib.pyplot as plt\n",
        "import seaborn as sns\n",
        "import tensorflow\n",
        "from numpy.random import seed\n",
        "seed(1337)\n",
        "import datetime\n",
        "import time\n",
        "#from tensorflow import set_random_seed\n",
        "#set_random_seed(42)\n",
        "tensorflow.random.set_seed(42)\n",
        "from tensorflow.keras import optimizers\n",
        "#from tensorflow.keras.optimizers import Adam\n",
        "from keras.optimizers import Adam\n",
        "#from keras.optimizers import Adam\n",
        "from tensorflow.keras.applications import vgg16\n",
        "# from tensorflow.keras.applications.mobilenet_v3 import mobileNetV3\n",
        "from tensorflow.keras.applications.vgg16 import preprocess_input\n",
        "from tensorflow.keras.preprocessing.image import ImageDataGenerator, load_img,img_to_array\n",
        "from keras.callbacks import ModelCheckpoint, EarlyStopping, ReduceLROnPlateau, CSVLogger\n",
        "from keras import layers, models, Model, optimizers\n",
        "from imblearn.over_sampling import SMOTE\n",
        "from tensorflow.keras.models import Sequential\n",
        "from tensorflow.keras.models import Sequential\n",
        "from tensorflow.keras.layers import Dense, Conv2D , MaxPool2D , Flatten , Dropout \n",
        "from tensorflow.keras import layers, models, Model, optimizers\n",
        "from tensorflow.keras import regularizers\n",
        "from tensorflow.python.keras.layers import Dropout\n",
        "from sklearn.metrics import classification_report, confusion_matrix, accuracy_score\n",
        "from tensorflow.keras.utils import get_custom_objects\n",
        "from tensorflow.python.keras.layers import LeakyReLU\n",
        "from tensorflow.keras.layers import Activation\n",
        "from tensorflow.keras.backend import sigmoid\n",
        "import seaborn as sns\n",
        "#from plot_confusion_matrix import plot_confusion_matrix\n",
        "print(\"All libraries are imported\")\n",
        "from google.colab import drive\n",
        "drive.mount('/content/drive')\n",
        "\n",
        "import sys\n",
        "import os\n",
        "import argparse\n",
        "\n",
        "# Time\n",
        "import time\n",
        "import datetime\n",
        "\n",
        "# Numerical Data\n",
        "import random\n",
        "import numpy as np \n",
        "import pandas as pd\n",
        "\n",
        "# Tools\n",
        "import shutil\n",
        "from glob import glob\n",
        "from tqdm import tqdm\n",
        "import gc\n",
        "\n",
        "# NLP\n",
        "import re\n",
        "\n",
        "# Preprocessing\n",
        "from sklearn import preprocessing\n",
        "from sklearn.utils.class_weight import compute_class_weight\n",
        "from sklearn.utils import shuffle\n",
        "\n",
        "# Model Selection\n",
        "from sklearn.model_selection import train_test_split\n",
        "from sklearn.model_selection import GridSearchCV\n",
        "from sklearn.model_selection import cross_val_score\n",
        "\n",
        "# Machine Learning Models\n",
        "from sklearn import svm\n",
        "from sklearn.svm import LinearSVC, SVC\n",
        "\n",
        "# Evaluation Metrics\n",
        "from sklearn import metrics \n",
        "from sklearn.metrics import f1_score, accuracy_score, precision_score, recall_score, confusion_matrix, classification_report, roc_auc_score\n",
        "\n",
        "#tesnorflow\n",
        "import tensorflow as tf\n",
        "from tensorflow import keras\n",
        "# Deep Learning - Keras -  Preprocessing\n",
        "from keras.preprocessing.image import ImageDataGenerator\n",
        "\n",
        "# Deep Learning - Keras - Model\n",
        "\n",
        "import keras\n",
        "from keras import models\n",
        "from keras.models import Model\n",
        "from keras.models import Sequential\n",
        "\n",
        "# Deep Learning - Keras - Layers\n",
        "\n",
        "from tensorflow.keras.layers  import Convolution1D, concatenate, SpatialDropout1D, GlobalMaxPool1D, GlobalAvgPool1D, Embedding, Conv2D, SeparableConv1D, Add, BatchNormalization, Activation, GlobalAveragePooling2D, LeakyReLU, Flatten\n",
        "from tensorflow.keras.layers import Dense, Input, Dropout, MaxPooling2D, Concatenate, GlobalMaxPooling2D, GlobalAveragePooling2D, \\\n",
        "    Lambda, Multiply, LSTM, Bidirectional, PReLU, MaxPooling1D, DepthwiseConv2D\n",
        "\n",
        "\n",
        "# Deep Learning - Keras - Pretrained Models\n",
        "from keras.applications.mobilenet_v2 import MobileNetV2\n",
        "from keras.applications.inception_v3 import InceptionV3\n",
        "\n",
        "# Deep Learning - Keras - Model Parameters and Evaluation Metrics\n",
        "\n",
        "from keras import optimizers\n",
        "from tensorflow.keras.optimizers import Adam, SGD , RMSprop\n",
        "from keras.losses import mae, sparse_categorical_crossentropy, binary_crossentropy\n",
        "from tensorflow.keras.preprocessing import image\n",
        "from tensorflow.keras.applications.resnet50 import preprocess_input, decode_predictions\n",
        "\n",
        "# Deep Learning - Keras - Visualisation\n",
        "\n",
        "from keras.callbacks import ModelCheckpoint, EarlyStopping, TensorBoard, ReduceLROnPlateau\n",
        "\n",
        "# from keras.wrappers.scikit_learn import KerasClassifier\n",
        "\n",
        "from keras import backend as K\n",
        "\n",
        "# Deep Learning - TensorFlow\n",
        "\n",
        "import tensorflow as tf\n",
        "\n",
        "# Graph/ Visualization\n",
        "\n",
        "import matplotlib.pyplot as plt\n",
        "from matplotlib.pyplot import figure\n",
        "import matplotlib.image as mpimg\n",
        "import seaborn as sns\n",
        "from mlxtend.plotting import plot_confusion_matrix\n",
        "\n",
        "# Image\n",
        "\n",
        "import cv2\n",
        "from PIL import Image\n",
        "from IPython.display import display\n",
        "from google.colab.patches import cv2_imshow\n",
        "\n",
        "# np.random.seed(42)\n",
        "\n",
        "%matplotlib inline"
      ],
      "metadata": {
        "id": "iEHKsnUSAHjm",
        "colab": {
          "base_uri": "https://localhost:8080/"
        },
        "outputId": "9b647e11-3dde-4130-c44d-03480012c278"
      },
      "execution_count": 1,
      "outputs": [
        {
          "output_type": "stream",
          "name": "stdout",
          "text": [
            "All libraries are imported\n",
            "Mounted at /content/drive\n"
          ]
        }
      ]
    },
    {
      "cell_type": "markdown",
      "source": [
        "#  **INSTALLING REQUIRED LIBRARIES**"
      ],
      "metadata": {
        "id": "fuk8euRey4M6"
      }
    },
    {
      "cell_type": "code",
      "source": [
        "!pip install GPUtil\n",
        "!pip install psutil\n",
        "!pip install pycuda\n",
        "!pip install pynvml\n",
        "!pip install gradio\n",
        "!pip install pyJoules"
      ],
      "metadata": {
        "colab": {
          "base_uri": "https://localhost:8080/"
        },
        "id": "rWXGrRRwXnyn",
        "outputId": "684fe4bc-5dcf-45c7-90a4-08bca8a53f98"
      },
      "execution_count": 14,
      "outputs": [
        {
          "output_type": "stream",
          "name": "stdout",
          "text": [
            "Looking in indexes: https://pypi.org/simple, https://us-python.pkg.dev/colab-wheels/public/simple/\n",
            "Requirement already satisfied: GPUtil in /usr/local/lib/python3.10/dist-packages (1.4.0)\n",
            "Looking in indexes: https://pypi.org/simple, https://us-python.pkg.dev/colab-wheels/public/simple/\n",
            "Requirement already satisfied: psutil in /usr/local/lib/python3.10/dist-packages (5.9.5)\n",
            "Looking in indexes: https://pypi.org/simple, https://us-python.pkg.dev/colab-wheels/public/simple/\n",
            "Requirement already satisfied: pycuda in /usr/local/lib/python3.10/dist-packages (2022.2.2)\n",
            "Requirement already satisfied: pytools>=2011.2 in /usr/local/lib/python3.10/dist-packages (from pycuda) (2022.1.14)\n",
            "Requirement already satisfied: appdirs>=1.4.0 in /usr/local/lib/python3.10/dist-packages (from pycuda) (1.4.4)\n",
            "Requirement already satisfied: mako in /usr/local/lib/python3.10/dist-packages (from pycuda) (1.2.4)\n",
            "Requirement already satisfied: platformdirs>=2.2.0 in /usr/local/lib/python3.10/dist-packages (from pytools>=2011.2->pycuda) (3.3.0)\n",
            "Requirement already satisfied: typing-extensions>=4.0 in /usr/local/lib/python3.10/dist-packages (from pytools>=2011.2->pycuda) (4.5.0)\n",
            "Requirement already satisfied: MarkupSafe>=0.9.2 in /usr/local/lib/python3.10/dist-packages (from mako->pycuda) (2.1.2)\n",
            "Looking in indexes: https://pypi.org/simple, https://us-python.pkg.dev/colab-wheels/public/simple/\n",
            "Requirement already satisfied: pynvml in /usr/local/lib/python3.10/dist-packages (11.5.0)\n",
            "Looking in indexes: https://pypi.org/simple, https://us-python.pkg.dev/colab-wheels/public/simple/\n",
            "Requirement already satisfied: gradio in /usr/local/lib/python3.10/dist-packages (3.32.0)\n",
            "Requirement already satisfied: aiofiles in /usr/local/lib/python3.10/dist-packages (from gradio) (23.1.0)\n",
            "Requirement already satisfied: aiohttp in /usr/local/lib/python3.10/dist-packages (from gradio) (3.8.4)\n",
            "Requirement already satisfied: altair>=4.2.0 in /usr/local/lib/python3.10/dist-packages (from gradio) (4.2.2)\n",
            "Requirement already satisfied: fastapi in /usr/local/lib/python3.10/dist-packages (from gradio) (0.95.2)\n",
            "Requirement already satisfied: ffmpy in /usr/local/lib/python3.10/dist-packages (from gradio) (0.3.0)\n",
            "Requirement already satisfied: gradio-client>=0.2.4 in /usr/local/lib/python3.10/dist-packages (from gradio) (0.2.5)\n",
            "Requirement already satisfied: httpx in /usr/local/lib/python3.10/dist-packages (from gradio) (0.24.1)\n",
            "Requirement already satisfied: huggingface-hub>=0.13.0 in /usr/local/lib/python3.10/dist-packages (from gradio) (0.14.1)\n",
            "Requirement already satisfied: jinja2 in /usr/local/lib/python3.10/dist-packages (from gradio) (3.1.2)\n",
            "Requirement already satisfied: markdown-it-py[linkify]>=2.0.0 in /usr/local/lib/python3.10/dist-packages (from gradio) (2.2.0)\n",
            "Requirement already satisfied: markupsafe in /usr/local/lib/python3.10/dist-packages (from gradio) (2.1.2)\n",
            "Requirement already satisfied: matplotlib in /usr/local/lib/python3.10/dist-packages (from gradio) (3.7.1)\n",
            "Requirement already satisfied: mdit-py-plugins<=0.3.3 in /usr/local/lib/python3.10/dist-packages (from gradio) (0.3.3)\n",
            "Requirement already satisfied: numpy in /usr/local/lib/python3.10/dist-packages (from gradio) (1.22.4)\n",
            "Requirement already satisfied: orjson in /usr/local/lib/python3.10/dist-packages (from gradio) (3.8.14)\n",
            "Requirement already satisfied: pandas in /usr/local/lib/python3.10/dist-packages (from gradio) (1.5.3)\n",
            "Requirement already satisfied: pillow in /usr/local/lib/python3.10/dist-packages (from gradio) (8.4.0)\n",
            "Requirement already satisfied: pydantic in /usr/local/lib/python3.10/dist-packages (from gradio) (1.10.7)\n",
            "Requirement already satisfied: pydub in /usr/local/lib/python3.10/dist-packages (from gradio) (0.25.1)\n",
            "Requirement already satisfied: pygments>=2.12.0 in /usr/local/lib/python3.10/dist-packages (from gradio) (2.14.0)\n",
            "Requirement already satisfied: python-multipart in /usr/local/lib/python3.10/dist-packages (from gradio) (0.0.6)\n",
            "Requirement already satisfied: pyyaml in /usr/local/lib/python3.10/dist-packages (from gradio) (6.0)\n",
            "Requirement already satisfied: requests in /usr/local/lib/python3.10/dist-packages (from gradio) (2.27.1)\n",
            "Requirement already satisfied: semantic-version in /usr/local/lib/python3.10/dist-packages (from gradio) (2.10.0)\n",
            "Requirement already satisfied: typing-extensions in /usr/local/lib/python3.10/dist-packages (from gradio) (4.5.0)\n",
            "Requirement already satisfied: uvicorn>=0.14.0 in /usr/local/lib/python3.10/dist-packages (from gradio) (0.22.0)\n",
            "Requirement already satisfied: websockets>=10.0 in /usr/local/lib/python3.10/dist-packages (from gradio) (11.0.3)\n",
            "Requirement already satisfied: entrypoints in /usr/local/lib/python3.10/dist-packages (from altair>=4.2.0->gradio) (0.4)\n",
            "Requirement already satisfied: jsonschema>=3.0 in /usr/local/lib/python3.10/dist-packages (from altair>=4.2.0->gradio) (4.3.3)\n",
            "Requirement already satisfied: toolz in /usr/local/lib/python3.10/dist-packages (from altair>=4.2.0->gradio) (0.12.0)\n",
            "Requirement already satisfied: fsspec in /usr/local/lib/python3.10/dist-packages (from gradio-client>=0.2.4->gradio) (2023.4.0)\n",
            "Requirement already satisfied: packaging in /usr/local/lib/python3.10/dist-packages (from gradio-client>=0.2.4->gradio) (23.1)\n",
            "Requirement already satisfied: filelock in /usr/local/lib/python3.10/dist-packages (from huggingface-hub>=0.13.0->gradio) (3.12.0)\n",
            "Requirement already satisfied: tqdm>=4.42.1 in /usr/local/lib/python3.10/dist-packages (from huggingface-hub>=0.13.0->gradio) (4.65.0)\n",
            "Requirement already satisfied: mdurl~=0.1 in /usr/local/lib/python3.10/dist-packages (from markdown-it-py[linkify]>=2.0.0->gradio) (0.1.2)\n",
            "Requirement already satisfied: linkify-it-py<3,>=1 in /usr/local/lib/python3.10/dist-packages (from markdown-it-py[linkify]>=2.0.0->gradio) (2.0.2)\n",
            "Requirement already satisfied: python-dateutil>=2.8.1 in /usr/local/lib/python3.10/dist-packages (from pandas->gradio) (2.8.2)\n",
            "Requirement already satisfied: pytz>=2020.1 in /usr/local/lib/python3.10/dist-packages (from pandas->gradio) (2022.7.1)\n",
            "Requirement already satisfied: click>=7.0 in /usr/local/lib/python3.10/dist-packages (from uvicorn>=0.14.0->gradio) (8.1.3)\n",
            "Requirement already satisfied: h11>=0.8 in /usr/local/lib/python3.10/dist-packages (from uvicorn>=0.14.0->gradio) (0.14.0)\n",
            "Requirement already satisfied: attrs>=17.3.0 in /usr/local/lib/python3.10/dist-packages (from aiohttp->gradio) (23.1.0)\n",
            "Requirement already satisfied: charset-normalizer<4.0,>=2.0 in /usr/local/lib/python3.10/dist-packages (from aiohttp->gradio) (2.0.12)\n",
            "Requirement already satisfied: multidict<7.0,>=4.5 in /usr/local/lib/python3.10/dist-packages (from aiohttp->gradio) (6.0.4)\n",
            "Requirement already satisfied: async-timeout<5.0,>=4.0.0a3 in /usr/local/lib/python3.10/dist-packages (from aiohttp->gradio) (4.0.2)\n",
            "Requirement already satisfied: yarl<2.0,>=1.0 in /usr/local/lib/python3.10/dist-packages (from aiohttp->gradio) (1.9.2)\n",
            "Requirement already satisfied: frozenlist>=1.1.1 in /usr/local/lib/python3.10/dist-packages (from aiohttp->gradio) (1.3.3)\n",
            "Requirement already satisfied: aiosignal>=1.1.2 in /usr/local/lib/python3.10/dist-packages (from aiohttp->gradio) (1.3.1)\n",
            "Requirement already satisfied: starlette<0.28.0,>=0.27.0 in /usr/local/lib/python3.10/dist-packages (from fastapi->gradio) (0.27.0)\n",
            "Requirement already satisfied: certifi in /usr/local/lib/python3.10/dist-packages (from httpx->gradio) (2022.12.7)\n",
            "Requirement already satisfied: httpcore<0.18.0,>=0.15.0 in /usr/local/lib/python3.10/dist-packages (from httpx->gradio) (0.17.2)\n",
            "Requirement already satisfied: idna in /usr/local/lib/python3.10/dist-packages (from httpx->gradio) (3.4)\n",
            "Requirement already satisfied: sniffio in /usr/local/lib/python3.10/dist-packages (from httpx->gradio) (1.3.0)\n",
            "Requirement already satisfied: contourpy>=1.0.1 in /usr/local/lib/python3.10/dist-packages (from matplotlib->gradio) (1.0.7)\n",
            "Requirement already satisfied: cycler>=0.10 in /usr/local/lib/python3.10/dist-packages (from matplotlib->gradio) (0.11.0)\n",
            "Requirement already satisfied: fonttools>=4.22.0 in /usr/local/lib/python3.10/dist-packages (from matplotlib->gradio) (4.39.3)\n",
            "Requirement already satisfied: kiwisolver>=1.0.1 in /usr/local/lib/python3.10/dist-packages (from matplotlib->gradio) (1.4.4)\n",
            "Requirement already satisfied: pyparsing>=2.3.1 in /usr/local/lib/python3.10/dist-packages (from matplotlib->gradio) (3.0.9)\n",
            "Requirement already satisfied: urllib3<1.27,>=1.21.1 in /usr/local/lib/python3.10/dist-packages (from requests->gradio) (1.26.15)\n",
            "Requirement already satisfied: anyio<5.0,>=3.0 in /usr/local/lib/python3.10/dist-packages (from httpcore<0.18.0,>=0.15.0->httpx->gradio) (3.6.2)\n",
            "Requirement already satisfied: pyrsistent!=0.17.0,!=0.17.1,!=0.17.2,>=0.14.0 in /usr/local/lib/python3.10/dist-packages (from jsonschema>=3.0->altair>=4.2.0->gradio) (0.19.3)\n",
            "Requirement already satisfied: uc-micro-py in /usr/local/lib/python3.10/dist-packages (from linkify-it-py<3,>=1->markdown-it-py[linkify]>=2.0.0->gradio) (1.0.2)\n",
            "Requirement already satisfied: six>=1.5 in /usr/local/lib/python3.10/dist-packages (from python-dateutil>=2.8.1->pandas->gradio) (1.16.0)\n",
            "Looking in indexes: https://pypi.org/simple, https://us-python.pkg.dev/colab-wheels/public/simple/\n",
            "Collecting pyJoules\n",
            "  Downloading pyJoules-0.5.1-py2.py3-none-any.whl (57 kB)\n",
            "\u001b[2K     \u001b[90m━━━━━━━━━━━━━━━━━━━━━━━━━━━━━━━━━━━━━━━━\u001b[0m \u001b[32m57.3/57.3 kB\u001b[0m \u001b[31m3.5 MB/s\u001b[0m eta \u001b[36m0:00:00\u001b[0m\n",
            "\u001b[?25hInstalling collected packages: pyJoules\n",
            "Successfully installed pyJoules-0.5.1\n"
          ]
        }
      ]
    },
    {
      "cell_type": "markdown",
      "source": [
        "# **Inference**"
      ],
      "metadata": {
        "id": "L_qeohzd1YfC"
      }
    },
    {
      "cell_type": "markdown",
      "source": [
        " **MAKING PREDICTIONS**"
      ],
      "metadata": {
        "id": "FI9j9UYk0thU"
      }
    },
    {
      "cell_type": "code",
      "source": [
        "# Load the trained model\n",
        "\n",
        "from tensorflow.keras.models import load_model\n",
        "\n",
        "# Load the model from file\n",
        "#model1 =\"/content/drive/MyDrive/Colab Notebooks/DR-APTOS/model.h5\"\n",
        "model1 =\"/content/drive/MyDrive/Colab Notebooks/DR-APTOS/model.h5\"\n",
        "model = keras.models.load_model(model1)\n",
        "\n",
        "# Set the path to the test images directory\n",
        "#test_dir=\"/content/drive/MyDrive/Colab Notebooks/DR-APTOS/valid/Rdr\"\n",
        "test_dir = \"/content/drive/MyDrive/Colab Notebooks/DR-APTOS/test/test_merge\"\n",
        "\n",
        "a=1 #(DR CLASS)\n",
        "b=0 #(NO DR CLASS)\n",
        "fig = plt.figure(figsize=(30, 6))\n",
        "\n",
        "train_imgs= os.listdir(test_dir)\n",
        "# Loop through the test images directory\n",
        "for idx,img in enumerate(np.random.choice(train_imgs, 1)):\n",
        "    img_dir = train_imgs\n",
        "    filename = img\n",
        "    \n",
        "\n",
        "    # Load the test image\n",
        "    #img_path = os.path.join(test_dir, filename)\n",
        "    img_path = test_dir +'/'+ filename\n",
        "    img = cv2.imread(img_path)\n",
        "           \n",
        "    img = cv2.resize(img, (224, 224))\n",
        "\n",
        "    # Reshape the image to match the expected input shape of the model\n",
        "    img = img.reshape(1, 224, 224, 3)\n",
        "   \n",
        "\n",
        "# Run inference on the image\n",
        "    prediction = model.predict(img)\n",
        "    integer_prediction = int(np.round(prediction, 0))\n",
        "\n",
        "    if integer_prediction==a:\n",
        "        img1 = Image.open(img_path)\n",
        "        resized_img = img1.resize((224, 224))  # resize to (224, 224)\n",
        "        resized_img.show()\n",
        "        print('PREDICTION IS:',integer_prediction)\n",
        "        #print('ACTUAL IS:',filename[11])\n",
        "        #print('DIABETIC EYE')\n",
        "        #print('FILENAME',filename)\n",
        "        if filename[11]=='2' or filename[11]=='3' or filename[11]=='4':\n",
        "           print('ACTUAL IS:'+''+'DR EYE'+'\\n '+'Level'+ ':'+filename[11])\n",
        "         #print(filename[11])\n",
        "        \n",
        "\n",
        "    elif integer_prediction==b:\n",
        "         img2 = Image.open(img_path)\n",
        "         resized_img1 = img2.resize((224, 224))  # resize to (224, 224)\n",
        "         resized_img1.show()\n",
        "         print('PREDICTION IS:',integer_prediction)\n",
        "         if filename[11]=='0' or filename[11]=='1':\n",
        "           print('ACTUAL IS:'+''+'NO DR EYE'+'\\n'+'Level'+ ':'+filename[11])\n",
        "         #print('ACTUAL IS:',filename[11])\n",
        "         #print(type(filename[11]))\n",
        "         #print('NON DIABETIC EYE')\n",
        "         #print('FILENAME',filename)\n",
        "       \n",
        "\n"
      ],
      "metadata": {
        "id": "AjoOLjc3-DLX",
        "colab": {
          "base_uri": "https://localhost:8080/",
          "height": 328
        },
        "outputId": "881bad69-06a3-4386-9eb2-dfe4b3325f0a"
      },
      "execution_count": 3,
      "outputs": [
        {
          "output_type": "stream",
          "name": "stdout",
          "text": [
            "1/1 [==============================] - 8s 8s/step\n"
          ]
        },
        {
          "output_type": "display_data",
          "data": {
            "text/plain": [
              "<PIL.Image.Image image mode=RGB size=224x224 at 0x7FDD996701C0>"
            ],
            "image/png": "[encoded data removed]"
          },
          "metadata": {}
        },
        {
          "output_type": "stream",
          "name": "stdout",
          "text": [
            "PREDICTION IS: 1\n",
            "ACTUAL IS:DR EYE\n",
            " Level:2\n"
          ]
        },
        {
          "output_type": "display_data",
          "data": {
            "text/plain": [
              "<Figure size 3000x600 with 0 Axes>"
            ]
          },
          "metadata": {}
        }
      ]
    },
    {
      "cell_type": "markdown",
      "source": [
        "# **FINDING OUT VARIOUS PARAMETERS**\n"
      ],
      "metadata": {
        "id": "AD_2G9Hn10FG"
      }
    },
    {
      "cell_type": "code",
      "source": [
        "# 1. BANDWIDTH\n",
        "# 2. LATENCY\n",
        "# 3. MODEL SIZE IN MEMORY\n",
        "# 4. THROUGHPUT TIME\n",
        "# 5. MEMORY UTILIZATION\n",
        "# 6. DEVICE UTILIZATION\n",
        "# 7. CLOCK RATE\n",
        "# 8. POWER"
      ],
      "metadata": {
        "id": "sfxqqSDA2L0h"
      },
      "execution_count": 5,
      "outputs": []
    },
    {
      "cell_type": "markdown",
      "source": [
        "***1. THROUGHPUT TIME***"
      ],
      "metadata": {
        "id": "fPHw1o9V3D-s"
      }
    },
    {
      "cell_type": "code",
      "source": [
        "# Load the trained model\n",
        "\n",
        "start_time = time.time()\n",
        "\n",
        "from tensorflow.keras.models import load_model\n",
        "\n",
        "# Load the model from file\n",
        "#model1 =\"/content/drive/MyDrive/Colab Notebooks/DR-APTOS/model.h5\"\n",
        "model1 =\"/content/drive/MyDrive/Colab Notebooks/DR-APTOS/model.h5\"\n",
        "model = keras.models.load_model(model1)\n",
        "\n",
        "# Set the path to the test images directory\n",
        "#test_dir=\"/content/drive/MyDrive/Colab Notebooks/DR-APTOS/valid/Rdr\"\n",
        "test_dir = \"/content/drive/MyDrive/Colab Notebooks/DR-APTOS/test/test_merge\"\n",
        "\n",
        "\n",
        "a=1 #(DR CLASS)\n",
        "b=0 #(NO DR CLASS)\n",
        "fig = plt.figure(figsize=(30, 6))\n",
        "\n",
        "train_imgs= os.listdir(test_dir)\n",
        "# Loop through the test images directory\n",
        "for idx,img in enumerate(np.random.choice(train_imgs, 1)):\n",
        "    img_dir = train_imgs\n",
        "    filename = img\n",
        "    \n",
        "\n",
        "    # Load the test image\n",
        "    #img_path = os.path.join(test_dir, filename)\n",
        "    img_path = test_dir +'/'+ filename\n",
        "    img = cv2.imread(img_path)\n",
        "           \n",
        "    img = cv2.resize(img, (224, 224))\n",
        "\n",
        "    # Reshape the image to match the expected input shape of the model\n",
        "    img = img.reshape(1, 224, 224, 3)\n",
        "   \n",
        "\n",
        "# Run inference on the image\n",
        "    prediction = model.predict(img)\n",
        "    integer_prediction = int(np.round(prediction, 0))\n",
        "\n",
        "    if integer_prediction==a:\n",
        "        img1 = Image.open(img_path)\n",
        "        resized_img = img1.resize((224, 224))  # resize to (224, 224)\n",
        "        #resized_img.show()\n",
        "        #print('PREDICTION IS:',integer_prediction)\n",
        "        #print('ACTUAL IS:',filename[9])\n",
        "        #print('DIABETIC EYE')\n",
        "         #print(filename[11])\n",
        "        \n",
        "\n",
        "    elif integer_prediction==b:\n",
        "         img2 = Image.open(img_path)\n",
        "         resized_img1 = img2.resize((224, 224))  # resize to (224, 224)\n",
        "         #resized_img1.show()\n",
        "         #print('PREDICTION IS:',integer_prediction)\n",
        "         #print('ACTUAL IS:',filename[9])\n",
        "         #print('NON DIABETIC EYE')\n",
        "          #print(filename[11])\n",
        "\n",
        "end_time = time.time()\n",
        "throughput_time = end_time - start_time\n",
        "print(f\"Throughput time: {throughput_time:.2f} seconds\")"
      ],
      "metadata": {
        "colab": {
          "base_uri": "https://localhost:8080/",
          "height": 69
        },
        "id": "w2q_4_gDPDEA",
        "outputId": "1a2775fc-0586-40ba-f1ae-7f8eb0230055"
      },
      "execution_count": null,
      "outputs": [
        {
          "output_type": "stream",
          "name": "stdout",
          "text": [
            "1/1 [==============================] - 0s 114ms/step\n",
            "Throughput time: 0.70 seconds\n"
          ]
        },
        {
          "output_type": "display_data",
          "data": {
            "text/plain": [
              "<Figure size 3000x600 with 0 Axes>"
            ]
          },
          "metadata": {}
        }
      ]
    },
    {
      "cell_type": "markdown",
      "source": [
        "***2. MODEL SIZE IN MEMORY***"
      ],
      "metadata": {
        "id": "zyN6wG_R3M6K"
      }
    },
    {
      "cell_type": "code",
      "source": [
        "model_size = sys.getsizeof(model1)\n",
        "print(\"Model size in memory:\", model_size, \"bytes\")"
      ],
      "metadata": {
        "colab": {
          "base_uri": "https://localhost:8080/"
        },
        "id": "bGfvFQe7d9Uz",
        "outputId": "3c07de65-6b52-424d-9d5b-175b2dc3b221"
      },
      "execution_count": 7,
      "outputs": [
        {
          "output_type": "stream",
          "name": "stdout",
          "text": [
            "Model size in memory: 105 bytes\n"
          ]
        }
      ]
    },
    {
      "cell_type": "markdown",
      "source": [
        "***EVALUATION OF OTHER PARAMETERS***"
      ],
      "metadata": {
        "id": "t3XalOrp3jJx"
      }
    },
    {
      "cell_type": "code",
      "source": [
        "from tensorflow.keras.models import load_model\n",
        "import psutil\n",
        "import pynvml\n",
        "import asyncio\n",
        "import numpy as np\n",
        "\n",
        "\n",
        "start_time = time.time()\n",
        "# Load the model from file\n",
        "#model1 =\"/content/drive/MyDrive/Colab Notebooks/DR-APTOS/model.h5\"\n",
        "model1 =\"/content/drive/MyDrive/Colab Notebooks/DR-APTOS/model.h5\"\n",
        "model = keras.models.load_model(model1)\n",
        "\n",
        "# Set the path to the test images directory\n",
        "#test_dir=\"/content/drive/MyDrive/Colab Notebooks/DR-APTOS/valid/Rdr\"\n",
        "test_dir = \"/content/drive/MyDrive/Colab Notebooks/DR-APTOS/test/test_merge\"\n",
        "\n",
        "\n",
        "a=1 #(DR CLASS)\n",
        "b=0 #(NO DR CLASS)\n",
        "fig = plt.figure(figsize=(30, 6))\n",
        "\n",
        "train_imgs= os.listdir(test_dir)\n",
        "# Loop through the test images directory\n",
        "for idx,img in enumerate(np.random.choice(train_imgs, 1)):\n",
        "    img_dir = train_imgs\n",
        "    filename = img\n",
        "    \n",
        "\n",
        "    # Load the test image\n",
        "    #img_path = os.path.join(test_dir, filename)\n",
        "    img_path = test_dir +'/'+ filename\n",
        "    img = cv2.imread(img_path)\n",
        "           \n",
        "    img = cv2.resize(img, (224, 224))\n",
        "\n",
        "    # Reshape the image to match the expected input shape of the model\n",
        "    img = img.reshape(1, 224, 224, 3)\n",
        "   \n",
        "\n",
        "# Run inference on the image\n",
        "    prediction = model.predict(img)\n",
        "    integer_prediction = int(np.round(prediction, 0))\n",
        "\n",
        "    if integer_prediction==a:\n",
        "        img1 = Image.open(img_path)\n",
        "        resized_img = img1.resize((224, 224))  # resize to (224, 224)\n",
        "        #resized_img.show()\n",
        "        #print('PREDICTION IS:',integer_prediction)\n",
        "        #print('ACTUAL IS:')\n",
        "        #print('DIABETIC EYE')\n",
        "         #print(filename[11])\n",
        "        \n",
        "\n",
        "    elif integer_prediction==b:\n",
        "         img2 = Image.open(img_path)\n",
        "         resized_img1 = img2.resize((224, 224))  # resize to (224, 224)\n",
        "         #resized_img1.show()\n",
        "         #print('PREDICTION IS:',integer_prediction)\n",
        "         #print('ACTUAL IS:',)\n",
        "         #print('NON DIABETIC EYE')\n",
        "         #print(filename[11])\n",
        "end_time = time.time()\n",
        "throughput_time = end_time - start_time\n",
        "\n",
        "#TO DO EVALUATION OF PARAMATERS WHETHER ON CPU OR GPU\n",
        "device=input('ENTER DEVICE:')\n",
        "\n",
        "if device=='CPU' or device=='cpu':\n",
        "   process = psutil.Process()\n",
        "   #print('CPU Utilization by all Processes running on computer :',psutil.cpu_percent())\n",
        "   #print('Total Frequency of CPU :',psutil.cpu_freq()[0])#represents frequency in Mhz\n",
        "   #print(f\" Latency = {throughput_time} seconds\")# TIME BETWEEN INITIATION AND END OF PROCESS\n",
        "   #print('BANDWITH IS GIVEN BY:',model_size/psutil.cpu_freq()[0])\n",
        "   #CONVERT BANDWITH IN GHZ\n",
        "   #CONVERT MODEL SIZE IN MBytes\n",
        "   a=model_size*(10**-6)\n",
        "   #print('Model size in MegaBytes:',a)\n",
        "   #Frequency is in MHz\n",
        "   #print('Frequency:',psutil.cpu_freq()[0])\n",
        "   b=a/psutil.cpu_freq()[0]\n",
        "   band=b*(10**17)\n",
        "   #print('FINAL ANSWER IS GIVEN BY:',b*(10**17))\n",
        "   # Converting the integer number to exponential number\n",
        "   exp_number = \"{:e}\".format(band)\n",
        "   if __name__ == \"__main__\":\n",
        "      cpu_freq = psutil.cpu_freq()\n",
        "\n",
        "   # Extract the CPU frequency from the CPU frequency object\n",
        "   cpu_clock_rate = cpu_freq.current\n",
        "   print(f\" Memory Utilization by a Process : {process.memory_percent()} %\")\n",
        "   print( )\n",
        "   print(f\" Latency = {throughput_time} seconds\")# TIME BETWEEN INITIATION AND END OF PROCESS\n",
        "   print( )\n",
        "   print(f\" CPU Utilization by a Process :{process.cpu_percent()} %\")\n",
        "   print( )\n",
        "   print(f\"CPU Clock Rate: {cpu_clock_rate} MHz\")\n",
        "   print( )\n",
        "   # CLOCK RATE IN GHZ\n",
        "   print(f\"CPU Clock Rate: {cpu_clock_rate/1000} GHz\")\n",
        "   print( )\n",
        "   print(f\" Bandwidth  = {exp_number} Hz\")\n",
        "   print( )\n",
        "   print(f\" Power  = {psutil.cpu_percent()/throughput_time} Joule/sec\")\n",
        "   print( )\n",
        " \n",
        "   # Printing the converted number\n",
        "   #print(\"Integer Number:\",band)\n",
        "   #print(\"BANDWITH IS GIVEN BY:\",exp_number)\n",
        "\n",
        "\n",
        "elif device=='GPU' or device=='gpu':\n",
        "     import GPUtil\n",
        "     import pycuda.driver as cuda\n",
        "     from pycuda import gpuarray\n",
        "     # Initialize PyCUDA\n",
        "     cuda.init()\n",
        "\n",
        "     # Get the number of available GPUs\n",
        "     device_count = cuda.Device.count()\n",
        "\n",
        "     if device_count == 0:\n",
        "        print(\"No GPUs found.\")\n",
        "     else:\n",
        "        for i in range(device_count):\n",
        "            # Select the GPU device\n",
        "            device = cuda.Device(i)\n",
        "\n",
        "            # Create a CUDA context\n",
        "            context = device.make_context()\n",
        "\n",
        "            # Get the device properties\n",
        "            props = device.get_attributes()\n",
        "\n",
        "            # Check if the device supports the attribute for clock rate\n",
        "            if cuda.device_attribute.CLOCK_RATE in props:\n",
        "            # Get the clock rate in kilohertz\n",
        "                   clock_rate = props[cuda.device_attribute.CLOCK_RATE] / 1000  # Convert to megahertz\n",
        "                   print(f\"GPU {i}: Clock rate = {clock_rate/1000} GHz\")\n",
        "\n",
        "            #CONVERT MODEL SIZE IN MBytes\n",
        "            a=model_size*(10**-6)\n",
        "            #print('Model size in MegaBytes:',a)\n",
        "\n",
        "            pynvml.nvmlInit()\n",
        "            handle= pynvml.nvmlDeviceGetHandleByIndex(0)\n",
        "            measurement_interval=0.1\n",
        "            plotting_interval=0.2\n",
        "            time_span=20\n",
        "            m=t=np.array([np.nan]*int(time_span/measurement_interval))\n",
        "            t=np.array([np.nan]*int(time_span/measurement_interval))\n",
        "            mW_to_W=1e3\n",
        "            \n",
        "\n",
        "\n",
        "            \n",
        "     GPUtil.showUtilization()\n",
        "     inh=a/clock_rate\n",
        "     b=inh\n",
        "     band=b*(10**17)\n",
        "     #print('FINAL ANSWER IS GIVEN BY:',b*(10**17))\n",
        "     # Converting the integer number to exponential number\n",
        "     exp_number = \"{:e}\".format(band)\n",
        "     print(f\" Bandwidth IS GIVEN BY = {exp_number} Hz\")\n",
        "     print(f\" Latency = {throughput_time} seconds\")\n",
        "     measure=  pynvml.nvmlDeviceGetPowerUsage(handle)/mW_to_W\n",
        "     print(f\" Power  = {measure} Joule/sec\")\n",
        "     print()\n",
        "     print()\n",
        "     #Track of GPU activity while executing deep learning model\n",
        "     print(\"==============================\")\n",
        "     print(\"GPU ACTIVITY\")\n",
        "     !nvidia-smi\n",
        "        "
      ],
      "metadata": {
        "colab": {
          "base_uri": "https://localhost:8080/",
          "height": 312
        },
        "id": "UB20cEhiPbRr",
        "outputId": "5f6454c5-0f70-4c24-d5da-b00a62b44c04"
      },
      "execution_count": 12,
      "outputs": [
        {
          "output_type": "stream",
          "name": "stdout",
          "text": [
            "1/1 [==============================] - 0s 95ms/step\n",
            "ENTER DEVICE:CPU\n",
            " Memory Utilization by a Process : 26.39676780903403 %\n",
            "\n",
            " Latency = 2.1360814571380615 seconds\n",
            "\n",
            " CPU Utilization by a Process :0.0 %\n",
            "\n",
            "CPU Clock Rate: 2299.998 MHz\n",
            "\n",
            "CPU Clock Rate: 2.299998 GHz\n",
            "\n",
            " Bandwidth  = 4.565221e+09 Hz\n",
            "\n",
            " Power  = 6.928574727589815 Joule/sec\n",
            "\n"
          ]
        },
        {
          "output_type": "display_data",
          "data": {
            "text/plain": [
              "<Figure size 3000x600 with 0 Axes>"
            ]
          },
          "metadata": {}
        }
      ]
    },
    {
      "cell_type": "code",
      "source": [
        "from pyJoules.energy_meter import measure_energy\n",
        "from pyJoules.handler.csv_handler import CSVHandler\n",
        "\n",
        "# Create an instance of the energy meter device\n",
        "energy_meter = measure_energy\n",
        "# Access the energy measurement value\n",
        "energy_measurement=energy_meter\n",
        "print(energy_measurement)"
      ],
      "metadata": {
        "colab": {
          "base_uri": "https://localhost:8080/"
        },
        "id": "7a-O-zZ2USJQ",
        "outputId": "7a9253f2-2f84-4ff9-c3fd-f55e835c39c3"
      },
      "execution_count": 15,
      "outputs": [
        {
          "output_type": "stream",
          "name": "stdout",
          "text": [
            "<function measure_energy at 0x7fdd7a0053f0>\n"
          ]
        }
      ]
    },
    {
      "cell_type": "markdown",
      "source": [
        "# **INTERFACE**"
      ],
      "metadata": {
        "id": "cPloaQ4k6twH"
      }
    },
    {
      "cell_type": "code",
      "source": [
        "import tensorflow as tf\n",
        "\n",
        "model1 =\"/content/drive/MyDrive/Colab Notebooks/DR-APTOS/model2.h5\"\n",
        "model = keras.models.load_model(model1)\n",
        "a=1\n",
        "b=0\n",
        "def classify_image(img):\n",
        "        img = cv2.resize(img, (224, 224))\n",
        "        img = img.reshape(1, 224, 224, 3)\n",
        "        prediction = model.predict(img)\n",
        "        integer_prediction = int(np.round(prediction, 0))\n",
        "        labels=['DIABETIC EYE','NON-DIABETIC EYE']\n",
        "\n",
        "        if integer_prediction==a:\n",
        "              label= labels[0]\n",
        "              prediction1= integer_prediction\n",
        "              return [label,prediction1]\n",
        "\n",
        "        elif integer_prediction==b:\n",
        "             label1= labels[1]\n",
        "             prediction2= integer_prediction\n",
        "             return [label1,prediction2]\n",
        "\n",
        "import gradio as gr\n",
        "\n",
        "output1= gr.outputs.Textbox(label='EYE DIAGNOSIS')\n",
        "output2=  gr.outputs.Textbox(label='PREDICTION')\n",
        "\n",
        "face=gr.Interface(fn=classify_image, \n",
        "             inputs= gr.Image(shape=(224, 224)),\n",
        "             outputs= [output1,output2],\n",
        "             examples=[\"/content/drive/MyDrive/Colab Notebooks/DR-APTOS/valid/Nrdr/Aptos_19_0_3580a545016d.jpg\", \"/content/drive/MyDrive/Colab Notebooks/DR-APTOS/valid/Nrdr/Aptos_19_0_4f5dd7660b17.jpg\"]).launch(share=True)"
      ],
      "metadata": {
        "colab": {
          "base_uri": "https://localhost:8080/",
          "height": 646
        },
        "id": "6ygH1mPX-DOT",
        "outputId": "5b989bb8-8585-4ba4-f63d-da36f468e878"
      },
      "execution_count": 18,
      "outputs": [
        {
          "output_type": "stream",
          "name": "stderr",
          "text": [
            "/usr/local/lib/python3.10/dist-packages/gradio/outputs.py:22: UserWarning: Usage of gradio.outputs is deprecated, and will not be supported in the future, please import your components from gradio.components\n",
            "  warnings.warn(\n"
          ]
        },
        {
          "output_type": "stream",
          "name": "stdout",
          "text": [
            "Colab notebook detected. To show errors in colab notebook, set debug=True in launch()\n",
            "Running on public URL: https://115f817afcf171a487.gradio.live\n",
            "\n",
            "This share link expires in 72 hours. For free permanent hosting and GPU upgrades (NEW!), check out Spaces: https://huggingface.co/spaces\n"
          ]
        },
        {
          "output_type": "display_data",
          "data": {
            "text/plain": [
              "<IPython.core.display.HTML object>"
            ],
            "text/html": [
              "<div><iframe src=\"https://115f817afcf171a487.gradio.live\" width=\"100%\" height=\"500\" allow=\"autoplay; camera; microphone; clipboard-read; clipboard-write;\" frameborder=\"0\" allowfullscreen></iframe></div>"
            ]
          },
          "metadata": {}
        }
      ]
    }
  ]
}